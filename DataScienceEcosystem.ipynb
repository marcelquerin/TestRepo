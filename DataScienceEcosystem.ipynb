{
 "cells": [
  {
   "cell_type": "markdown",
   "id": "a88c1edf-260a-4d72-8c84-167dc5a4cfc3",
   "metadata": {},
   "source": [
    "# Data Science Tools and Ecosystem"
   ]
  },
  {
   "cell_type": "markdown",
   "id": "2220f6bf-d899-423f-b7f7-ae5ba883ad20",
   "metadata": {},
   "source": [
    "### In this notebook, Data Science Tools and Ecosystem are summarized."
   ]
  },
  {
   "cell_type": "markdown",
   "id": "8d65e491-4e33-4e60-8832-4b2843181856",
   "metadata": {},
   "source": [
    "<B>Objectives:</B>\n",
    "- Listing some popular languages used in data science\n",
    "- Listing some commonly used libraries\n",
    "- Listing popular data science environments\n",
    "- Showing arithmetic\n",
    "- Showing lists"
   ]
  },
  {
   "cell_type": "markdown",
   "id": "e8afa50e-3d12-4421-9be8-f987b4e5585f",
   "metadata": {},
   "source": [
    " Some of the popular languages that Data Scientists use are:\n",
    "1. Python\n",
    "2. R\n",
    "3. Julia\n",
    "4. Javascript"
   ]
  },
  {
   "cell_type": "markdown",
   "id": "532ddb42-7d33-44fa-bf86-dc19f886739c",
   "metadata": {},
   "source": [
    "Some of the commonly used libraries used by Data Scientists include:\n",
    "1. Plotly\n",
    "2. GGplot\n",
    "3. NumPy\n",
    "4. Pandas\n",
    "5. MatPlotLib\n",
    "6. SciPy\n",
    "7. etc"
   ]
  },
  {
   "cell_type": "markdown",
   "id": "7463a399-14be-41ad-8c2e-799dbb321843",
   "metadata": {},
   "source": [
    "|Data Science Tools|\n",
    "|------------------|\n",
    "|VS Code|\n",
    "|JupiterLab|\n",
    "|R Studio|"
   ]
  },
  {
   "cell_type": "markdown",
   "id": "d2b5819c-967b-47db-a828-425809b0ead2",
   "metadata": {},
   "source": [
    "### Below are a few examples of evaluating arithmetic expressions in Python:  \n",
    "1+1  \n",
    "2*3  \n",
    "7-3  "
   ]
  },
  {
   "cell_type": "code",
   "execution_count": 3,
   "id": "f853c2e6-844b-465b-b043-f968abcf0440",
   "metadata": {},
   "outputs": [
    {
     "name": "stdout",
     "output_type": "stream",
     "text": [
      "(3*4)+5= 17\n"
     ]
    }
   ],
   "source": [
    "# This a simple arithmetic expression to mutiply then add integers\n",
    "print(\"(3*4)+5=\",(3*4)+5)"
   ]
  },
  {
   "cell_type": "code",
   "execution_count": 5,
   "id": "69bb78e9-8623-47e3-b0b8-a6b7578110dd",
   "metadata": {},
   "outputs": [
    {
     "name": "stdout",
     "output_type": "stream",
     "text": [
      "200 minutes divided by 60 seconds = 3.3333333333333335  hours\n"
     ]
    }
   ],
   "source": [
    "# This will convert 200 minutes to hours by diving by 60\n",
    "print(\"200 minutes divided by 60 seconds =\",200/60,\" hours\")"
   ]
  },
  {
   "cell_type": "markdown",
   "id": "5247a262-2630-4516-8ecf-713ac969d239",
   "metadata": {},
   "source": [
    "# Author:\n",
    "Marcel Querin"
   ]
  },
  {
   "cell_type": "code",
   "execution_count": null,
   "id": "4ad12764-c142-4cef-bfa4-5d82784fb666",
   "metadata": {},
   "outputs": [],
   "source": []
  }
 ],
 "metadata": {
  "kernelspec": {
   "display_name": "Python 3 (ipykernel)",
   "language": "python",
   "name": "python3"
  },
  "language_info": {
   "codemirror_mode": {
    "name": "ipython",
    "version": 3
   },
   "file_extension": ".py",
   "mimetype": "text/x-python",
   "name": "python",
   "nbconvert_exporter": "python",
   "pygments_lexer": "ipython3",
   "version": "3.12.7"
  }
 },
 "nbformat": 4,
 "nbformat_minor": 5
}
